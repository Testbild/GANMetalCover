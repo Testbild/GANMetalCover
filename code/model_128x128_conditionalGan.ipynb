{
 "cells": [
  {
   "cell_type": "code",
   "execution_count": null,
   "id": "05ce3375",
   "metadata": {},
   "outputs": [],
   "source": [
    "import base64\n",
    "import io\n",
    "\n",
    "import numpy as np\n",
    "import pandas as pd\n",
    "import matplotlib.pyplot as plt\n",
    "from PIL import Image"
   ]
  },
  {
   "cell_type": "markdown",
   "id": "1d9a4d02",
   "metadata": {},
   "source": [
    "# Explore the Dataset"
   ]
  },
  {
   "cell_type": "code",
   "execution_count": null,
   "id": "f4b89b9b",
   "metadata": {},
   "outputs": [],
   "source": [
    "#maa = pd.read_csv('../data/metalCover/metal_albums_artwork_images.csv', delimiter=',', quotechar='\"')\n",
    "#maa.describe()"
   ]
  },
  {
   "cell_type": "code",
   "execution_count": null,
   "id": "c4ada88f",
   "metadata": {
    "scrolled": true
   },
   "outputs": [],
   "source": [
    "#maa[maa['artist_name']=='Sonata Arctica']"
   ]
  },
  {
   "cell_type": "code",
   "execution_count": null,
   "id": "847fb730",
   "metadata": {},
   "outputs": [],
   "source": [
    "# display an album image\n",
    "#b64_cover = maa[maa['album_name']=='Winterheart\\'s Guild'].iloc[0]['album_cover_image']\n",
    "#cover_data = base64.b64decode(b64_cover)\n",
    "#image = Image.open(io.BytesIO(cover_data))\n",
    "\n",
    "#maxwidth = 128\n",
    "#maxheight = 128\n",
    "\n",
    "#ratio_width = maxwidth/image.size[0]\n",
    "#ratio_height = maxheight/image.size[1]\n",
    "#image = image.resize((int(image.size[0]*ratio_width),int(image.size[1]*ratio_height)), Image.ANTIALIAS)\n",
    "\n",
    "#img_array = np.array(image)\n",
    "#plt.imshow(img_array)"
   ]
  },
  {
   "cell_type": "markdown",
   "id": "a6f40f74",
   "metadata": {},
   "source": [
    "# Clean Dataset"
   ]
  },
  {
   "cell_type": "code",
   "execution_count": null,
   "id": "6f2906e7",
   "metadata": {},
   "outputs": [],
   "source": [
    "def cleanDataset(metalDataset):\n",
    "    '''\n",
    "    Function for cleaning the NA values of artist_main_genre,artist_name and album_cover_image\n",
    "    Parameters:\n",
    "            metalDataset: Dataset from https://www.kaggle.com/benjamnmachn/metal-album-artwork-dataset-intro/data as a df\n",
    "            \n",
    "    '''\n",
    "    metalDatasetClean = metalDataset[metalDataset['artist_main_genre'].notna()]\n",
    "    metalDatasetClean = metalDatasetClean[metalDatasetClean['artist_name'].notna()]\n",
    "    metalDatasetClean = metalDatasetClean[metalDatasetClean['album_cover_image'].notna()]\n",
    "    \n",
    "    metalDatasetClean['artist_main_genre_label'] = metalDatasetClean['artist_main_genre']\n",
    "    metalDatasetClean.artist_main_genre_label = pd.Categorical(pd.factorize(metalDatasetClean.artist_main_genre_label)[0])\n",
    "    \n",
    "    \n",
    "    return metalDatasetClean\n",
    "\n"
   ]
  },
  {
   "cell_type": "code",
   "execution_count": null,
   "id": "144b18ea",
   "metadata": {},
   "outputs": [],
   "source": [
    "import torch\n",
    "from torch import nn\n",
    "from tqdm.auto import tqdm\n",
    "from torchvision import transforms\n",
    "from torchvision.datasets import MNIST\n",
    "from torchvision.utils import make_grid\n",
    "from torch.utils.data import DataLoader\n",
    "import matplotlib.pyplot as plt\n",
    "\n",
    "def show_tensor_images(image_tensor, num_images=4, size=(3, 128, 128)):\n",
    "    '''\n",
    "    Function for visualizing images: Given a tensor of images, number of images, and\n",
    "    size per image, plots and prints the images in an uniform grid.\n",
    "    '''\n",
    "    #image_tensor = (image_tensor + 1) / 2\n",
    "    image_unflat = image_tensor.detach().cpu()\n",
    "    image_grid = make_grid(image_unflat[:num_images], nrow=5)\n",
    "    \n",
    "    image_grid[image_grid < 0] = 0\n",
    "    plt.imshow(image_grid.permute(1, 2, 0).squeeze(), cmap=\"gray\")\n",
    "\n",
    "    plt.show()"
   ]
  },
  {
   "cell_type": "markdown",
   "id": "eda8d01a",
   "metadata": {},
   "source": [
    "# Helper for debugging"
   ]
  },
  {
   "cell_type": "code",
   "execution_count": null,
   "id": "81986411",
   "metadata": {},
   "outputs": [],
   "source": [
    "class PrintBlock(nn.Module):\n",
    "    def forward(self, x):\n",
    "        print(\"Printblockoutput {}\".format(x.shape))\n",
    "        return x"
   ]
  },
  {
   "cell_type": "markdown",
   "id": "53487663",
   "metadata": {},
   "source": [
    "# Generator"
   ]
  },
  {
   "cell_type": "code",
   "execution_count": null,
   "id": "1cda8673",
   "metadata": {},
   "outputs": [],
   "source": [
    "class GeneratorConditional(nn.Module):\n",
    "    def __init__(self,n_classes, embedding_dim, latent_dim):\n",
    "        super(GeneratorConditional, self).__init__()\n",
    "        \n",
    "     \n",
    "        self.label_conditioned_generator = nn.Sequential(nn.Embedding(n_classes, embedding_dim),\n",
    "                                                         nn.Linear(embedding_dim, 16))\n",
    "        \n",
    "    \n",
    "        self.latent = nn.Sequential(nn.Linear(latent_dim, 4*4*512),\n",
    "                                    nn.LeakyReLU(0.2, inplace=True))\n",
    "           \n",
    "\n",
    "        self.model = nn.Sequential(nn.ConvTranspose2d(513, 64*8, 4, 2, 1, bias=False),\n",
    "                                   nn.BatchNorm2d(64*8, momentum=0.1,  eps=0.8),\n",
    "                                   nn.ReLU(True),\n",
    "                                   nn.ConvTranspose2d(64*8, 64*4, 4, 2, 1,bias=False),\n",
    "                                   nn.BatchNorm2d(64*4, momentum=0.1,  eps=0.8),\n",
    "                                   nn.ReLU(True), \n",
    "                                   nn.ConvTranspose2d(64*4, 64*2, 4, 2, 1,bias=False),\n",
    "                                   nn.BatchNorm2d(64*2, momentum=0.1,  eps=0.8),\n",
    "                                   nn.ReLU(True), \n",
    "                                   nn.ConvTranspose2d(64*2, 64*1, 4, 2, 1,bias=False),\n",
    "                                   nn.BatchNorm2d(64*1, momentum=0.1,  eps=0.8),\n",
    "                                   nn.ReLU(True), \n",
    "                                   nn.ConvTranspose2d(64*1, 3, 4, 2, 1, bias=False),\n",
    "                                   nn.Tanh())\n",
    "\n",
    "    def forward(self, inputs):\n",
    "        noise_vector, label = inputs\n",
    "        label_output = self.label_conditioned_generator(label)\n",
    "        label_output = label_output.view(-1, 1, 4, 4)\n",
    "        latent_output = self.latent(noise_vector)\n",
    "        latent_output = latent_output.view(-1, 512,4,4)\n",
    "        concat = torch.cat((latent_output, label_output), dim=1)\n",
    "        image = self.model(concat)\n",
    "\n",
    "        return image"
   ]
  },
  {
   "cell_type": "code",
   "execution_count": null,
   "id": "1f97527e",
   "metadata": {},
   "outputs": [],
   "source": [
    "def get_noise(n_samples, z_dim, device='cpu'):\n",
    "    '''\n",
    "    Function for creating noise vectors: Given the dimensions (n_samples, z_dim)\n",
    "    creates a tensor of that shape filled with random numbers from the normal distribution.\n",
    "    Parameters:\n",
    "      n_samples: the number of samples to generate, a scalar\n",
    "      z_dim: the dimension of the noise vector, a scalar\n",
    "      device: the device type\n",
    "    '''\n",
    "    return torch.randn(n_samples, z_dim, device=device)"
   ]
  },
  {
   "cell_type": "markdown",
   "id": "4ff8c930",
   "metadata": {},
   "source": [
    "# Critic"
   ]
  },
  {
   "cell_type": "code",
   "execution_count": null,
   "id": "a0ff3b17",
   "metadata": {},
   "outputs": [],
   "source": [
    "class CriticConditional(nn.Module):\n",
    "    def __init__(self, n_classes, embedding_dim):\n",
    "        super(CriticConditional, self).__init__()\n",
    "        \n",
    "    \n",
    "        self.label_condition_disc = nn.Sequential(nn.Embedding(n_classes, embedding_dim),\n",
    "                                                  nn.Linear(embedding_dim, 3*128*128))\n",
    "             \n",
    "        self.model = nn.Sequential(nn.Conv2d(6, 64, 4, 2, 1, bias=False),\n",
    "                                   nn.LeakyReLU(0.2, inplace=True),\n",
    "                                   nn.Conv2d(64, 64*2, 4, 3, 2, bias=False),\n",
    "                                   nn.BatchNorm2d(64*2, momentum=0.1,  eps=0.8),\n",
    "                                   nn.LeakyReLU(0.2, inplace=True),\n",
    "                                   nn.Conv2d(64*2, 64*4, 4, 3,2, bias=False),\n",
    "                                   nn.BatchNorm2d(64*4, momentum=0.1,  eps=0.8),\n",
    "                                   nn.LeakyReLU(0.2, inplace=True),\n",
    "                                   nn.Conv2d(64*4, 64*8, 4, 3, 2, bias=False),\n",
    "                                   nn.BatchNorm2d(64*8, momentum=0.1,  eps=0.8),\n",
    "                                   nn.LeakyReLU(0.2, inplace=True), \n",
    "                                   nn.Flatten(),\n",
    "                                   nn.Dropout(0.4),\n",
    "                                   nn.Linear(4608, 1),\n",
    "                                   nn.Sigmoid()\n",
    "                     )\n",
    "\n",
    "    def forward(self, inputs):\n",
    "        img, label = inputs\n",
    "        label_output = self.label_condition_disc(label)\n",
    "        label_output = label_output.view(-1, 3, 128, 128)\n",
    "\n",
    "        if len(img.shape) == 3:\n",
    "            img = img[:, :, :, None]\n",
    "            img = img.expand(img.shape[0], img.shape[1], img.shape[2], 3)\n",
    "                \n",
    "        if img.shape[1] != 3:\n",
    "            img = img.permute(0, 3, 1, 2)\n",
    "        \n",
    "        concat = torch.cat((img, label_output), dim=1)\n",
    "        output = self.model(concat)\n",
    "\n",
    "        return output\n"
   ]
  },
  {
   "cell_type": "markdown",
   "id": "062aa972",
   "metadata": {},
   "source": [
    "# Hyperparameters"
   ]
  },
  {
   "cell_type": "code",
   "execution_count": null,
   "id": "df0e14da",
   "metadata": {},
   "outputs": [],
   "source": [
    "n_epochs = 1000\n",
    "z_dim = 100\n",
    "display_step = 5000\n",
    "batch_size = 4\n",
    "lr = 0.0005\n",
    "beta_1 = 0.5\n",
    "beta_2 = 0.999\n",
    "c_lambda = 10\n",
    "crit_repeats = 10\n",
    "label_dim = 2\n",
    "latent_dim = 32\n",
    "device = 'cuda'\n",
    "\n",
    "transform = transforms.Compose([\n",
    "    transforms.ToTensor(),\n",
    "    transforms.Normalize((0.5,), (0.5,)),\n",
    "])"
   ]
  },
  {
   "cell_type": "markdown",
   "id": "1fa19181",
   "metadata": {},
   "source": [
    "# Dataset"
   ]
  },
  {
   "cell_type": "code",
   "execution_count": null,
   "id": "bc94e4bf",
   "metadata": {},
   "outputs": [],
   "source": [
    "import os\n",
    "from torchvision.io import read_image\n",
    "from torch.utils.data import Dataset\n",
    "from torchvision import datasets\n",
    "from torchvision.transforms import ToTensor\n",
    "import matplotlib.pyplot as plt\n",
    "\n",
    "class CustomImageDataset(Dataset):\n",
    "    def __init__(self, metalDatasetPath, imageAmount = 5000, transform=None, target_transform=None):\n",
    "        self.metalDataset = pd.read_csv(metalDatasetPath, delimiter=',', quotechar='\"', nrows = imageAmount)\n",
    "        self.metalDataset = self.cleanDataset(self.metalDataset)\n",
    "        self.transform = transform\n",
    "        self.target_transform = target_transform\n",
    "\n",
    "    def __len__(self):\n",
    "        return len(self.metalDataset)\n",
    "\n",
    "    def __getitem__(self, idx):\n",
    "        \n",
    "        # display an album image\n",
    "        b64_cover = self.metalDataset['album_cover_image'].iloc[idx]\n",
    "        cover_data = base64.b64decode(b64_cover)\n",
    "        image = Image.open(io.BytesIO(cover_data))\n",
    "        \n",
    "        #Resize the image\n",
    "        maxwidth = 128\n",
    "        maxheight = 128\n",
    "        ratio_width = maxwidth/image.size[0]\n",
    "        ratio_height = maxheight/image.size[1]\n",
    "        image = image.resize((128,128))\n",
    "        \n",
    "        \n",
    "        img_array = np.array(image).astype(int)\n",
    "        \n",
    "        label = self.metalDataset['artist_main_genre_label'].iloc[idx]\n",
    "        \n",
    "        if self.transform:\n",
    "            img_array = self.transform(img_array)\n",
    "        if self.target_transform:\n",
    "            label = self.target_transform(label)\n",
    "        return img_array, label\n",
    "    \n",
    "    def cleanDataset(self, metalDataset):\n",
    "        '''\n",
    "        Function for cleaning the NA values of artist_main_genre,artist_name and album_cover_image\n",
    "        Parameters:\n",
    "                metalDataset: Dataset from https://www.kaggle.com/benjamnmachn/metal-album-artwork-dataset-intro/data as a df\n",
    "            \n",
    "        '''\n",
    "        metalDatasetClean = self.metalDataset[self.metalDataset['artist_main_genre'].notna()]\n",
    "        metalDatasetClean = metalDatasetClean[metalDatasetClean['artist_name'].notna()]\n",
    "        metalDatasetClean = metalDatasetClean[metalDatasetClean['album_cover_image'].notna()]\n",
    "        metalDatasetClean['artist_main_genre_label'] = metalDatasetClean['artist_main_genre']\n",
    "        metalDatasetClean.artist_main_genre_label = pd.Categorical(pd.factorize(metalDatasetClean.artist_main_genre_label)[0])\n",
    "\n",
    "        metalDatasetClean = metalDatasetClean.loc[metalDatasetClean['artist_main_genre_label'].isin([0,3])]\n",
    "\n",
    "        return metalDatasetClean"
   ]
  },
  {
   "cell_type": "markdown",
   "id": "978c4d9b",
   "metadata": {},
   "source": [
    "# Dataloader"
   ]
  },
  {
   "cell_type": "code",
   "execution_count": null,
   "id": "6adc40a0",
   "metadata": {},
   "outputs": [],
   "source": [
    "from torch.utils.data import DataLoader\n",
    "\n",
    "train_dataset = CustomImageDataset('../data/metalCover/metal_albums_artwork_images.csv')\n",
    "\n",
    "train_loader = DataLoader(train_dataset, batch_size=1, shuffle=True, num_workers=0)"
   ]
  },
  {
   "cell_type": "code",
   "execution_count": null,
   "id": "1efc8108",
   "metadata": {},
   "outputs": [],
   "source": [
    "# Display image and label.\n",
    "train_features, train_labels = next(iter(train_loader))\n",
    "print(f\"Feature batch shape: {train_features.size()}\")\n",
    "print(f\"Labels batch shape: {train_labels.size()}\")\n",
    "img = train_features[0].squeeze()\n",
    "label = train_labels[0]\n",
    "plt.imshow(img, cmap=\"gray\")\n",
    "plt.show()\n",
    "print(f\"Label: {label}\")"
   ]
  },
  {
   "cell_type": "markdown",
   "id": "e70fc9d4",
   "metadata": {},
   "source": [
    "# Initialize Generator and Critic"
   ]
  },
  {
   "cell_type": "code",
   "execution_count": null,
   "id": "d2bd0866",
   "metadata": {},
   "outputs": [],
   "source": [
    "#n_classes, embedding_dim, latent_dim\n",
    "generator = GeneratorConditional(n_classes = 4, embedding_dim = 16, latent_dim = 32).to(device)\n",
    "G_optimizer = torch.optim.Adam(generator.parameters(), lr=lr, betas=(beta_1, beta_2))\n",
    "discriminator = CriticConditional(n_classes = 4, embedding_dim = 16).to(device) \n",
    "D_optimizer = torch.optim.Adam(discriminator.parameters(), lr=lr, betas=(beta_1, beta_2))"
   ]
  },
  {
   "cell_type": "code",
   "execution_count": null,
   "id": "8c7a3e0a",
   "metadata": {},
   "outputs": [],
   "source": [
    "from torch.autograd import Variable"
   ]
  },
  {
   "cell_type": "code",
   "execution_count": null,
   "id": "3a4cbaef",
   "metadata": {},
   "outputs": [],
   "source": [
    "def generator_loss(label, fake_output):\n",
    "    gen_loss = torch.nn.functional.binary_cross_entropy(label, fake_output)\n",
    "    return gen_loss"
   ]
  },
  {
   "cell_type": "code",
   "execution_count": null,
   "id": "851c5ea1",
   "metadata": {},
   "outputs": [],
   "source": [
    "def discriminator_loss(label, output):\n",
    "    disc_loss = torch.nn.functional.binary_cross_entropy(label, output)\n",
    "    return disc_loss\n"
   ]
  },
  {
   "cell_type": "code",
   "execution_count": null,
   "id": "36ee3e2f",
   "metadata": {},
   "outputs": [],
   "source": [
    "def get_gradient(crit, real, fake, epsilon, label):\n",
    "    '''\n",
    "    Return the gradient of the critic's scores with respect to mixes of real and fake images.\n",
    "    Parameters:\n",
    "        crit: the critic model\n",
    "        real: a batch of real images\n",
    "        fake: a batch of fake images\n",
    "        epsilon: a vector of the uniformly random proportions of real/fake per mixed image\n",
    "    Returns:\n",
    "        gradient: the gradient of the critic's scores, with respect to the mixed image\n",
    "    '''\n",
    "    # Mix the images together\n",
    "\n",
    "    mixed_images = real * epsilon + fake * (1 - epsilon)\n",
    "\n",
    "    # Calculate the critic's scores on the mixed images\n",
    "    mixed_scores = crit((mixed_images, label))\n",
    "    \n",
    "    # Take the gradient of the scores with respect to the images\n",
    "    gradient = torch.autograd.grad(\n",
    "        # Note: You need to take the gradient of outputs with respect to inputs.\n",
    "        # This documentation may be useful, but it should not be necessary:\n",
    "        # https://pytorch.org/docs/stable/autograd.html#torch.autograd.grad\n",
    "\n",
    "        inputs=mixed_images,\n",
    "        outputs=mixed_scores,\n",
    "\n",
    "        # These other parameters have to do with the pytorch autograd engine works\n",
    "        grad_outputs=torch.ones_like(mixed_scores), \n",
    "        create_graph=True,\n",
    "        retain_graph=True,\n",
    "    )[0]\n",
    "    return gradient"
   ]
  },
  {
   "cell_type": "code",
   "execution_count": null,
   "id": "57402e0b",
   "metadata": {},
   "outputs": [],
   "source": [
    "def gradient_penalty(gradient):\n",
    "    '''\n",
    "    Return the gradient penalty, given a gradient.\n",
    "    Given a batch of image gradients, you calculate the magnitude of each image's gradient\n",
    "    and penalize the mean quadratic distance of each magnitude to 1.\n",
    "    Parameters:\n",
    "        gradient: the gradient of the critic's scores, with respect to the mixed image\n",
    "    Returns:\n",
    "        penalty: the gradient penalty\n",
    "    '''\n",
    "    # Flatten the gradients so that each row captures one image\n",
    "    gradient = gradient.reshape(len(gradient), -1) #view\n",
    "\n",
    "    # Calculate the magnitude of every row\n",
    "    gradient_norm = gradient.norm(2, dim=1)\n",
    "    \n",
    "    # Penalize the mean squared distance of the gradient norms from 1\n",
    "\n",
    "    penalty = torch.mean((gradient_norm -1 )**2)\n",
    "\n",
    "    return penalty"
   ]
  },
  {
   "cell_type": "markdown",
   "id": "30a5f421",
   "metadata": {},
   "source": [
    "# Train the model"
   ]
  },
  {
   "cell_type": "code",
   "execution_count": null,
   "id": "c1788f0c",
   "metadata": {},
   "outputs": [],
   "source": [
    "num_epochs = 200\n",
    "for epoch in range(1, num_epochs+1): \n",
    "    cur_step = 1\n",
    "    \n",
    "    for real, _ in tqdm(train_loader):\n",
    "        cur_batch_size = len(real)\n",
    "        real = real.to(device)\n",
    "        \n",
    "        \n",
    "        D_loss_list, G_loss_list = [], []\n",
    "\n",
    "        for index, (real_images, labels) in enumerate(train_loader):\n",
    "            D_optimizer.zero_grad()\n",
    "            real_images = real_images.to(device)\n",
    "            labels = labels.to(device)\n",
    "            labels = labels.unsqueeze(1).long()\n",
    "\n",
    "\n",
    "            real_target = Variable(torch.ones(real_images.size(0), 1).to(device))\n",
    "            fake_target = Variable(torch.zeros(real_images.size(0), 1).to(device))\n",
    "\n",
    "            D_real_loss = discriminator_loss(discriminator((real_images, labels)), real_target)\n",
    "\n",
    "            noise_vector = torch.randn(real_images.size(0), latent_dim, device=device)  \n",
    "            noise_vector = noise_vector.to(device)\n",
    "\n",
    "\n",
    "            generated_image = generator((noise_vector, labels))\n",
    "            output = discriminator((generated_image.detach(), labels))\n",
    "            D_fake_loss = discriminator_loss(output,  fake_target)\n",
    "\n",
    "\n",
    "            # train with fake\n",
    "            epsilon = torch.rand(len(real_images), 1, 1, 1, device=device, requires_grad=True)\n",
    "            \n",
    "            \n",
    "            if len(real_images.shape) == 3:\n",
    "                real_images = real_images[:, :, :, None]\n",
    "                real_images = real_images.expand(real_images.shape[0], real_images.shape[1], real_images.shape[2], 3)\n",
    "                \n",
    "        \n",
    "            if real_images.shape[1] != 3:\n",
    "                real_gradient_image = real_images.permute(0, 3, 1, 2)\n",
    "                \n",
    "            gradient = get_gradient(discriminator, real_gradient_image, generated_image.detach(), epsilon, labels)\n",
    "            gp = gradient_penalty(gradient)\n",
    "\n",
    "\n",
    "            D_total_loss = ((D_real_loss + D_fake_loss) / 2) + c_lambda*gp\n",
    "\n",
    "            D_loss_list.append(D_total_loss)\n",
    "\n",
    "            D_total_loss.backward()\n",
    "            D_optimizer.step()\n",
    "\n",
    "            # Train generator with real labels\n",
    "            G_optimizer.zero_grad()\n",
    "            G_loss = generator_loss(discriminator((generated_image, labels)), real_target)\n",
    "            G_loss_list.append(G_loss)\n",
    "\n",
    "            G_loss.backward()\n",
    "            G_optimizer.step()\n",
    "\n",
    "\n",
    "            ### Visualization code ###\n",
    "            if cur_step % display_step == 0 and cur_step > 0:\n",
    "                print('################FAKE#################')\n",
    "                show_tensor_images(generated_image)\n",
    "                print('################REAL#################')\n",
    "                show_tensor_images(real_images.permute(0,3,1,2))\n",
    "\n",
    "\n",
    "            cur_step += 1\n"
   ]
  },
  {
   "cell_type": "markdown",
   "id": "f580cdfb",
   "metadata": {},
   "source": [
    "# Save and Load the model"
   ]
  },
  {
   "cell_type": "code",
   "execution_count": null,
   "id": "87a2fa1f",
   "metadata": {},
   "outputs": [],
   "source": [
    "#PATHS where to save/load\n",
    "\n",
    "#PATH_GENERATOR = \"..\\\\resources\\results\\model_128x128\\\\model128x128_1000epochs_generator.pth\"\n",
    "#PATH_CRITIC = \"..\\\\results\\saved_models\\model_128x128\\\\model128x128_1000epochs_critic.pth\""
   ]
  },
  {
   "cell_type": "code",
   "execution_count": null,
   "id": "681a16cd",
   "metadata": {},
   "outputs": [],
   "source": [
    "#Save model\n",
    "\n",
    "#torch.save(gen.state_dict(), PATH_GENERATOR)\n",
    "#torch.save(crit.state_dict(), PATH_CRITIC)"
   ]
  },
  {
   "cell_type": "code",
   "execution_count": null,
   "id": "8727540d",
   "metadata": {},
   "outputs": [],
   "source": [
    "#Load Model\n",
    "\n",
    "#myLoadedGenerator = Generator(z_dim).to(device)\n",
    "#myLoadedGenerator.load_state_dict(torch.load(PATH_GENERATOR))"
   ]
  },
  {
   "cell_type": "code",
   "execution_count": null,
   "id": "b1a8428d",
   "metadata": {},
   "outputs": [],
   "source": [
    "#Generate fake image and display it\n",
    "\n",
    "#predictedFake = myLoadedGenerator.forward(get_noise(cur_batch_size, z_dim, device=device))\n",
    "#show_tensor_images(predictedFake)\n"
   ]
  }
 ],
 "metadata": {
  "kernelspec": {
   "display_name": "ganMetalCover",
   "language": "python",
   "name": "ganmetalcover"
  },
  "language_info": {
   "codemirror_mode": {
    "name": "ipython",
    "version": 3
   },
   "file_extension": ".py",
   "mimetype": "text/x-python",
   "name": "python",
   "nbconvert_exporter": "python",
   "pygments_lexer": "ipython3",
   "version": "3.9.9"
  }
 },
 "nbformat": 4,
 "nbformat_minor": 5
}
